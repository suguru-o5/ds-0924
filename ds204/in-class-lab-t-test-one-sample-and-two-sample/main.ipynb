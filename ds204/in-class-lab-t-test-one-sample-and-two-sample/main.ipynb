{
 "cells": [
  {
   "cell_type": "markdown",
   "metadata": {},
   "source": [
    "# In-Class Lab: T-Test (One Sample & Two Sample)"
   ]
  },
  {
   "cell_type": "code",
   "execution_count": 78,
   "metadata": {},
   "outputs": [],
   "source": [
    "from scipy import stats\n",
    "import numpy as np\n",
    "\n",
    "\n",
    "def isNullHypothesisRejected(alpha, p_value):\n",
    "    return True if p_value < alpha else False\n",
    "\n",
    "\n",
    "def printConclusion(isNullHypothesisRejected):\n",
    "    if isNullHypothesisRejected:\n",
    "        print(\"Reject the null hypothesis.\")\n",
    "    else:\n",
    "        print(\"Fail to reject the null hypothesis.\")"
   ]
  },
  {
   "cell_type": "markdown",
   "metadata": {},
   "source": [
    "## Exercise 1: One-Sample T-Test - Mean Weight of a Population"
   ]
  },
  {
   "cell_type": "markdown",
   "metadata": {},
   "source": [
    "You have a sample of weights (in kg) from a certain population. Test the hypothesis that the mean weight is 70 kg.\n",
    "\n",
    "- Sample: [72, 68, 75, 71, 69, 70, 73, 68]\n",
    "- Null Hypothesis: The population mean is 70 kg.  \n",
    "\n",
    "**Task**: Conduct a one-sample t-test to verify if the population mean is statistically\n",
    "different from 70 kg."
   ]
  },
  {
   "cell_type": "code",
   "execution_count": 79,
   "metadata": {},
   "outputs": [
    {
     "name": "stdout",
     "output_type": "stream",
     "text": [
      "T statistic: 2.2894683580127317\n",
      "P-value: 0.04781622111056696\n",
      "Reject the null hypothesis.\n"
     ]
    }
   ],
   "source": [
    "# Sample\n",
    "student_scores = np.array([72, 89, 65, 73, 79, 84, 63, 76, 85, 75])\n",
    "\n",
    "# Hypothesized population mean\n",
    "mu = 70\n",
    "\n",
    "# Perform t-test\n",
    "t_stat, p_value = stats.ttest_1samp(student_scores, mu)\n",
    "print(\"T statistic:\", t_stat)\n",
    "print(\"P-value:\", p_value)\n",
    "\n",
    "# Setting significance level\n",
    "alpha = 0.05\n",
    "\n",
    "# Interpret the results\n",
    "isRejected = isNullHypothesisRejected(alpha, p_value)\n",
    "\n",
    "printConclusion(isRejected)"
   ]
  },
  {
   "cell_type": "markdown",
   "metadata": {},
   "source": [
    "## Exercise 2: One-Sample T-Test - Average Height of Students"
   ]
  },
  {
   "cell_type": "markdown",
   "metadata": {},
   "source": [
    "A school claims the average height of its students is 165 cm. You take a random sample of 10 students:\n",
    "\n",
    "- Sample: [164, 162, 168, 167, 165, 166, 160, 159, 170, 163]\n",
    "- Null Hypothesis: The mean height is 165 cm.\n",
    "\n",
    "**Task**: Test the school’s claim using a one-sample t-test."
   ]
  },
  {
   "cell_type": "code",
   "execution_count": 80,
   "metadata": {},
   "outputs": [
    {
     "name": "stdout",
     "output_type": "stream",
     "text": [
      "T statistic: -0.5417363388859563\n",
      "P-value: 0.6011521875426783\n",
      "Fail to reject the null hypothesis.\n"
     ]
    }
   ],
   "source": [
    "# Sample\n",
    "student_scores = np.array([164, 162, 168, 167, 165, 166, 160, 159, 170, 163])\n",
    "\n",
    "# Hypothesized population mean\n",
    "mu = 165\n",
    "\n",
    "# Perform t-test\n",
    "t_stat, p_value = stats.ttest_1samp(student_scores, mu)\n",
    "print(\"T statistic:\", t_stat)\n",
    "print(\"P-value:\", p_value)\n",
    "\n",
    "# Setting significance level\n",
    "alpha = 0.05\n",
    "\n",
    "# Interpret the results\n",
    "isRejected = isNullHypothesisRejected(alpha, p_value)\n",
    "\n",
    "printConclusion(isRejected)"
   ]
  },
  {
   "cell_type": "markdown",
   "metadata": {},
   "source": [
    "## Exercise 3: One-Sample T-Test - Customer Satisfaction Scores"
   ]
  },
  {
   "cell_type": "markdown",
   "metadata": {},
   "source": [
    "A company claims their average customer satisfaction score is 4.5 out of 5. You sample 12 customers:\n",
    "\n",
    "- Sample: [4.2, 4.4, 4.5, 4.7, 4.5, 4.6, 4.4, 4.3, 4.5, 4.6, 4.2, 4.5]\n",
    "- Null Hypothesis: The mean satisfaction score is 4.5.  \n",
    "\n",
    "**Task**: Conduct a one-sample t-test to evaluate the company’s claim."
   ]
  },
  {
   "cell_type": "code",
   "execution_count": 81,
   "metadata": {},
   "outputs": [
    {
     "name": "stdout",
     "output_type": "stream",
     "text": [
      "T statistic: -1.1055415967851299\n",
      "P-value: 0.2925184553957747\n",
      "Fail to reject the null hypothesis.\n"
     ]
    }
   ],
   "source": [
    "# Sample\n",
    "student_scores = np.array([4.2, 4.4, 4.5, 4.7, 4.5, 4.6, 4.4, 4.3, 4.5, 4.6, 4.2, 4.5])\n",
    "\n",
    "# Hypothesized population mean\n",
    "mu = 4.5\n",
    "\n",
    "# Perform t-test\n",
    "t_stat, p_value = stats.ttest_1samp(student_scores, mu)\n",
    "print(\"T statistic:\", t_stat)\n",
    "print(\"P-value:\", p_value)\n",
    "\n",
    "# Setting significance level\n",
    "alpha = 0.05\n",
    "\n",
    "# Interpret the results\n",
    "isRejected = isNullHypothesisRejected(alpha, p_value)\n",
    "\n",
    "printConclusion(isRejected)"
   ]
  },
  {
   "cell_type": "markdown",
   "metadata": {},
   "source": [
    "## Exercise 4: Two-Sample T-Test - Exam Scores of Two Classes"
   ]
  },
  {
   "cell_type": "markdown",
   "metadata": {},
   "source": [
    "Compare the exam scores of two different classes:\n",
    "\n",
    "- Class A: [85, 78, 90, 88, 84, 91, 89]\n",
    "- Class B: [82, 80, 88, 86, 85, 79, 87]  \n",
    "\n",
    "**Task**: Perform a two-sample t-test to check if there is a significant difference in the mean exam scores between the two classes."
   ]
  },
  {
   "cell_type": "code",
   "execution_count": 82,
   "metadata": {},
   "outputs": [
    {
     "name": "stdout",
     "output_type": "stream",
     "text": [
      "T statistic: 1.1886087235395915\n",
      "P-value: 0.257584411334151\n",
      "Fail to reject the null hypothesis.\n"
     ]
    }
   ],
   "source": [
    "# Samples\n",
    "class_a = np.array([85, 78, 90, 88, 84, 91, 89])\n",
    "class_b = np.array([82, 80, 88, 86, 85, 79, 87])\n",
    "\n",
    "# Perform t-test\n",
    "t_stat, p_value = stats.ttest_ind(class_a, class_b)\n",
    "print(\"T statistic:\", t_stat)\n",
    "print(\"P-value:\", p_value)\n",
    "\n",
    "# Setting significance level\n",
    "alpha = 0.05\n",
    "\n",
    "# Interpret the results\n",
    "isRejected = isNullHypothesisRejected(alpha, p_value)\n",
    "\n",
    "printConclusion(isRejected)"
   ]
  },
  {
   "cell_type": "markdown",
   "metadata": {},
   "source": [
    "## Exercise 5: Two-Sample T-Test - Sales Performance Before and After Training"
   ]
  },
  {
   "cell_type": "markdown",
   "metadata": {},
   "source": [
    "A sales team underwent a training program, and their sales were recorded before and after the training:\n",
    "\n",
    "- Before: [1200, 1300, 1250, 1400, 1350, 1500]\n",
    "- After: [1450, 1380, 1550, 1600, 1500, 1580]\n",
    "\n",
    "**Task**: Conduct a two-sample t-test to assess if the training significantly improved\n",
    "sales performance."
   ]
  },
  {
   "cell_type": "code",
   "execution_count": 83,
   "metadata": {},
   "outputs": [
    {
     "name": "stdout",
     "output_type": "stream",
     "text": [
      "T statistic: -3.163967663492102\n",
      "P-value: 0.010090540561009647\n",
      "Reject the null hypothesis.\n"
     ]
    }
   ],
   "source": [
    "# Samples\n",
    "before = np.array([1200, 1300, 1250, 1400, 1350, 1500])\n",
    "after = np.array([1450, 1380, 1550, 1600, 1500, 1580])\n",
    "\n",
    "# Perform t-test\n",
    "t_stat, p_value = stats.ttest_ind(before, after)\n",
    "print(\"T statistic:\", t_stat)\n",
    "print(\"P-value:\", p_value)\n",
    "\n",
    "# Setting significance level\n",
    "alpha = 0.05\n",
    "\n",
    "# Interpret the results\n",
    "isRejected = isNullHypothesisRejected(alpha, p_value)\n",
    "\n",
    "printConclusion(isRejected)"
   ]
  },
  {
   "cell_type": "markdown",
   "metadata": {},
   "source": [
    "## Exercise 6: Two-Sample T-Test - Blood Pressure Medication"
   ]
  },
  {
   "cell_type": "markdown",
   "metadata": {},
   "source": [
    "You are given two groups: one taking a blood pressure medication and one taking a placebo. Their blood pressure reduction is measured:\n",
    "\n",
    "- Medication group: [10, 12, 9, 14, 11, 13]\n",
    "- Placebo group: [3, 5, 2, 4, 6, 5]\n",
    "\n",
    "**Task**: Use a two-sample t-test to determine whether the medication has a statistically significant effect on blood pressure."
   ]
  },
  {
   "cell_type": "code",
   "execution_count": 84,
   "metadata": {},
   "outputs": [
    {
     "name": "stdout",
     "output_type": "stream",
     "text": [
      "T statistic: 7.545937746270389\n",
      "P-value: 1.9570173447435993e-05\n",
      "Reject the null hypothesis.\n"
     ]
    }
   ],
   "source": [
    "# Samples\n",
    "m_group = np.array([10, 12, 9, 14, 11, 13])\n",
    "p_group = np.array([3, 5, 2, 4, 6, 5])\n",
    "\n",
    "# Perform t-test\n",
    "t_stat, p_value = stats.ttest_ind(m_group, p_group)\n",
    "print(\"T statistic:\", t_stat)\n",
    "print(\"P-value:\", p_value)\n",
    "\n",
    "# Setting significance level\n",
    "alpha = 0.05\n",
    "\n",
    "# Interpret the results\n",
    "isRejected = isNullHypothesisRejected(alpha, p_value)\n",
    "\n",
    "printConclusion(isRejected)"
   ]
  },
  {
   "cell_type": "markdown",
   "metadata": {},
   "source": [
    "## Exercise 7: One-Sample T-Test - Test if a Coin is Fair"
   ]
  },
  {
   "cell_type": "markdown",
   "metadata": {},
   "source": [
    "You flip a coin 100 times, and it lands on heads 58 times. A fair coin should have 50 heads out of 100 flips.\n",
    "- Null Hypothesis: The proportion of heads is 0.50.\n",
    "\n",
    "**Task**: Perform a one-sample t-test on the proportion of heads to determine if the\n",
    "coin is biased."
   ]
  },
  {
   "cell_type": "code",
   "execution_count": 85,
   "metadata": {},
   "outputs": [
    {
     "name": "stdout",
     "output_type": "stream",
     "text": [
      "T statistic: 1.6127570249962868\n",
      "P-value: 0.10998066941759066\n",
      "Fail to reject the null hypothesis.\n"
     ]
    }
   ],
   "source": [
    "# Sample\n",
    "observed_heads = np.array([1] * 58 + [0] * 42) # Head is [1] and tail is [0]\n",
    "\n",
    "# Hypothesized population mean\n",
    "mu = 0.5\n",
    "\n",
    "# Perform t-test\n",
    "t_stat, p_value = stats.ttest_1samp(observed_heads, mu)\n",
    "print(\"T statistic:\", t_stat)\n",
    "print(\"P-value:\", p_value)\n",
    "\n",
    "# Setting significance level\n",
    "alpha = 0.05\n",
    "\n",
    "# Interpret the results\n",
    "isRejected = isNullHypothesisRejected(alpha, p_value)\n",
    "\n",
    "printConclusion(isRejected)"
   ]
  },
  {
   "cell_type": "markdown",
   "metadata": {},
   "source": [
    "## Exercise 8: Two-Sample T-Test - Comparison of Test Scores"
   ]
  },
  {
   "cell_type": "markdown",
   "metadata": {},
   "source": [
    "A researcher believes that students who study with music perform differently than those who study in silence. You have two groups:\n",
    "\n",
    "- Music: [80, 85, 78, 90, 87, 76]\n",
    "- Silence: [88, 82, 84, 89, 91, 85]\n",
    "\n",
    "**Task**: Use a two-sample t-test to compare the test scores of both groups and determine if the difference is significant."
   ]
  },
  {
   "cell_type": "code",
   "execution_count": 86,
   "metadata": {},
   "outputs": [
    {
     "name": "stdout",
     "output_type": "stream",
     "text": [
      "T statistic: -1.4529052821772128\n",
      "P-value: 0.1768975161673121\n",
      "Fail to reject the null hypothesis.\n"
     ]
    }
   ],
   "source": [
    "# Samples\n",
    "music = np.array([80, 85, 78, 90, 87, 76])\n",
    "silence = np.array([88, 82, 84, 89, 91, 85])\n",
    "\n",
    "# Perform t-test\n",
    "t_stat, p_value = stats.ttest_ind(music, silence)\n",
    "print(\"T statistic:\", t_stat)\n",
    "print(\"P-value:\", p_value)\n",
    "\n",
    "# Setting significance level\n",
    "alpha = 0.05\n",
    "\n",
    "# Interpret the results\n",
    "isRejected = isNullHypothesisRejected(alpha, p_value)\n",
    "\n",
    "printConclusion(isRejected)"
   ]
  },
  {
   "cell_type": "markdown",
   "metadata": {},
   "source": [
    "## Exercise 9: One-Sample T-Test - Average Lifespan of a Product"
   ]
  },
  {
   "cell_type": "markdown",
   "metadata": {},
   "source": [
    "A manufacturer claims that the average lifespan of their product is 5 years. A sample of products shows these lifespans:\n",
    "\n",
    "- Sample: [4.8, 5.1, 4.9, 5.3, 4.7, 5.2, 5.0, 4.9]\n",
    "\n",
    "**Task**: Perform a one-sample t-test to check if the manufacturer’s claim is statistically valid."
   ]
  },
  {
   "cell_type": "code",
   "execution_count": 87,
   "metadata": {},
   "outputs": [
    {
     "name": "stdout",
     "output_type": "stream",
     "text": [
      "T statistic: -0.17407765595570038\n",
      "P-value: 0.8667318497550061\n",
      "Fail to reject the null hypothesis.\n"
     ]
    }
   ],
   "source": [
    "# Sample\n",
    "life_spans = np.array([4.8, 5.1, 4.9, 5.3, 4.7, 5.2, 5.0, 4.9])\n",
    "\n",
    "# Hypothesized population mean\n",
    "mu = 5\n",
    "\n",
    "# Perform t-test\n",
    "t_stat, p_value = stats.ttest_1samp(life_spans, mu)\n",
    "print(\"T statistic:\", t_stat)\n",
    "print(\"P-value:\", p_value)\n",
    "\n",
    "# Setting significance level\n",
    "alpha = 0.05\n",
    "\n",
    "# Interpret the results\n",
    "isRejected = isNullHypothesisRejected(alpha, p_value)\n",
    "\n",
    "printConclusion(isRejected)"
   ]
  },
  {
   "cell_type": "markdown",
   "metadata": {},
   "source": [
    "## Exercise 10: Two-Sample T-Test - Average Income of Two Cities"
   ]
  },
  {
   "cell_type": "markdown",
   "metadata": {},
   "source": [
    "Compare the average income of two cities based on a sample of residents:\n",
    "\n",
    "- City A: [45000, 48000, 47000, 50000, 49000, 46000]\n",
    "- City B: [43000, 42000, 44000, 41000, 45000, 43000]\n",
    "\n",
    "**Task**: Conduct a two-sample t-test to determine if there is a significant difference\n",
    "in income between the two cities."
   ]
  },
  {
   "cell_type": "code",
   "execution_count": 88,
   "metadata": {},
   "outputs": [
    {
     "name": "stdout",
     "output_type": "stream",
     "text": [
      "T statistic: 4.700096710803842\n",
      "P-value: 0.0008414426956321737\n",
      "Reject the null hypothesis.\n"
     ]
    }
   ],
   "source": [
    "# Samples\n",
    "city_a = np.array([45000, 48000, 47000, 50000, 49000, 46000])\n",
    "city_b = np.array([43000, 42000, 44000, 41000, 45000, 43000])\n",
    "\n",
    "# Perform t-test\n",
    "t_stat, p_value = stats.ttest_ind(city_a, city_b)\n",
    "print(\"T statistic:\", t_stat)\n",
    "print(\"P-value:\", p_value)\n",
    "\n",
    "# Setting significance level\n",
    "alpha = 0.05\n",
    "\n",
    "# Interpret the results\n",
    "isRejected = isNullHypothesisRejected(alpha, p_value)\n",
    "\n",
    "printConclusion(isRejected)"
   ]
  }
 ],
 "metadata": {
  "kernelspec": {
   "display_name": "venv",
   "language": "python",
   "name": "python3"
  },
  "language_info": {
   "codemirror_mode": {
    "name": "ipython",
    "version": 3
   },
   "file_extension": ".py",
   "mimetype": "text/x-python",
   "name": "python",
   "nbconvert_exporter": "python",
   "pygments_lexer": "ipython3",
   "version": "3.12.4"
  }
 },
 "nbformat": 4,
 "nbformat_minor": 2
}
