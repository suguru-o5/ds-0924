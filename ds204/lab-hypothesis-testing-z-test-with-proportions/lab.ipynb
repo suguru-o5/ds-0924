{
 "cells": [
  {
   "cell_type": "markdown",
   "metadata": {},
   "source": [
    "# Lab: Hypothesis Testing (Z-Test) with Proportions"
   ]
  },
  {
   "cell_type": "markdown",
   "metadata": {},
   "source": [
    "## Introduction"
   ]
  },
  {
   "cell_type": "markdown",
   "metadata": {},
   "source": [
    "### Definition of commonly used functions"
   ]
  },
  {
   "cell_type": "code",
   "execution_count": 31,
   "metadata": {},
   "outputs": [],
   "source": [
    "import math\n",
    "from scipy import stats\n",
    "\n",
    "\n",
    "def isNullHypothesisRejected(alpha, p_value):\n",
    "    return True if p_value < alpha else False\n",
    "\n",
    "\n",
    "def printConclusion(isNullHypothesisRejected):\n",
    "    if isNullHypothesisRejected:\n",
    "        print(\n",
    "            \"Reject the null hypothesis.\"\n",
    "        )\n",
    "    else:\n",
    "        print(\n",
    "            \"Fail to reject the null hypothesis.\"\n",
    "        )"
   ]
  },
  {
   "cell_type": "markdown",
   "metadata": {},
   "source": [
    "## Question 1: One-Proportion z-test (Left-tailed Test)"
   ]
  },
  {
   "cell_type": "markdown",
   "metadata": {},
   "source": [
    "**Scenario**: A university claims that at least 65% of its graduates secure a job within six months of graduation. You survey 200 graduates and find that 120 of them are employed within six months. At a 5% significance level, test if the university's claim holds."
   ]
  },
  {
   "cell_type": "markdown",
   "metadata": {},
   "source": [
    "### State the Null Hypothesis (H₀) and Alternative Hypothesis (H₁).\n",
    "- Null Hypothesis (H₀): The proportion is at least 65%.  \n",
    "\n",
    "       H₀: p ≥ 0.65\n",
    "\n",
    "- Alternative Hypothesis (H₁): The proportion is less than 65%.  \n",
    "\n",
    "       H₁: p < 0.65"
   ]
  },
  {
   "cell_type": "code",
   "execution_count": 32,
   "metadata": {},
   "outputs": [
    {
     "name": "stdout",
     "output_type": "stream",
     "text": [
      "Z-score: -1.4824986333222037\n",
      "P-value: 0.06910383348701271\n",
      "Fail to reject the null hypothesis.\n"
     ]
    }
   ],
   "source": [
    "# Parameters\n",
    "alpha = 0.05\n",
    "n = 200  # sample size\n",
    "x = 120  # number of successes\n",
    "p0 = 0.65  # hypothesized proportion\n",
    "\n",
    "# Sample proportion\n",
    "p_hat = x / n\n",
    "\n",
    "# Standard error\n",
    "se = math.sqrt((p0 * (1 - p0)) / n)\n",
    "\n",
    "# z-test statistic\n",
    "z = (p_hat - p0) / se\n",
    "\n",
    "# p-value (left-tailed test)\n",
    "p_value = stats.norm.cdf(z)\n",
    "\n",
    "# Output the results\n",
    "print(f\"Z-score: {z}\")\n",
    "print(f\"P-value: {p_value}\")\n",
    "\n",
    "# Output the conclusion\n",
    "isRejected = isNullHypothesisRejected(alpha, p_value)\n",
    "printConclusion(isRejected)"
   ]
  },
  {
   "cell_type": "markdown",
   "metadata": {},
   "source": [
    "## Question 2: Two-Proportion z-test (Two-tailed Test)"
   ]
  },
  {
   "cell_type": "markdown",
   "metadata": {},
   "source": [
    "**Scenario**: A sports team wants to compare the proportion of people attending their home games to those attending away games. Out of 300 home games, 180 attendees showed up. Out of 250 away games, 140 attendees showed up. At a 5%\n",
    "significance level, is there a significant difference between the proportions of attendees at home and away games?"
   ]
  },
  {
   "cell_type": "markdown",
   "metadata": {},
   "source": [
    "### State the Null Hypothesis (H₀) and Alternative Hypothesis (H₁).\n",
    "- Null Hypothesis (H₀): The proportions are the same.  \n",
    "\n",
    "       H₀: p1 = p2\n",
    "\n",
    "- Alternative Hypothesis (H₁): The proportions are different.  \n",
    "\n",
    "       H₁: p1 ≠ p2"
   ]
  },
  {
   "cell_type": "code",
   "execution_count": 33,
   "metadata": {},
   "outputs": [
    {
     "name": "stdout",
     "output_type": "stream",
     "text": [
      "Z-score: 0.9469631093314982\n",
      "P-value: 0.3436575774939179\n",
      "Fail to reject the null hypothesis.\n"
     ]
    }
   ],
   "source": [
    "# Parameters\n",
    "n1 = 300  # sample size group 1\n",
    "x1 = 180  # successes group 1\n",
    "n2 = 250  # sample size group 2\n",
    "x2 = 140  # successes group 2\n",
    "# Sample proportions\n",
    "p1 = x1 / n1\n",
    "p2 = x2 / n2\n",
    "\n",
    "# Pooled proportion\n",
    "p_hat = (x1 + x2) / (n1 + n2)\n",
    "# Standard error\n",
    "se = math.sqrt(p_hat * (1 - p_hat) * ((1 / n1) + (1 / n2)))\n",
    "# z-test statistic\n",
    "z = (p1 - p2) / se\n",
    "# p-value (two-tailed test)\n",
    "p_value = 2 * (1 - stats.norm.cdf(abs(z)))\n",
    "\n",
    "# Output the results\n",
    "print(f\"Z-score: {z}\")\n",
    "print(f\"P-value: {p_value}\")\n",
    "\n",
    "# Output the conclusion\n",
    "isRejected = isNullHypothesisRejected(alpha, p_value)\n",
    "printConclusion(isRejected)"
   ]
  },
  {
   "cell_type": "markdown",
   "metadata": {},
   "source": [
    "## Question 3: One-Proportion z-test (Left-tailed Test)"
   ]
  },
  {
   "cell_type": "markdown",
   "metadata": {},
   "source": [
    "**Scenario**: A school claims that at least 75% of its students pass a standardized exam. You survey 150 students and find that 100 of them passed. Is the school's claim valid at the 5% significance level?"
   ]
  },
  {
   "cell_type": "markdown",
   "metadata": {},
   "source": [
    "### State the Null Hypothesis (H₀) and Alternative Hypothesis (H₁).\n",
    "- Null Hypothesis (H₀): The proportion is at least 75%.  \n",
    "\n",
    "       H₀: p ≥ 0.75\n",
    "\n",
    "- Alternative Hypothesis (H₁): The proportion is less than 75%.  \n",
    "\n",
    "       H₁: p < 0.75"
   ]
  },
  {
   "cell_type": "code",
   "execution_count": 34,
   "metadata": {},
   "outputs": [
    {
     "name": "stdout",
     "output_type": "stream",
     "text": [
      "Z-score: -2.3570226039551594\n",
      "P-value: 0.00921106272704948\n",
      "Reject the null hypothesis.\n"
     ]
    }
   ],
   "source": [
    "# Parameters\n",
    "alpha = 0.05\n",
    "n = 150  # sample size\n",
    "x = 100  # number of successes\n",
    "p0 = 0.75  # hypothesized proportion\n",
    "\n",
    "# Sample proportion\n",
    "p_hat = x / n\n",
    "\n",
    "# Standard error\n",
    "se = math.sqrt((p0 * (1 - p0)) / n)\n",
    "\n",
    "# z-test statistic\n",
    "z = (p_hat - p0) / se\n",
    "\n",
    "# p-value (left-tailed test)\n",
    "p_value = stats.norm.cdf(z)\n",
    "\n",
    "# Output the results\n",
    "print(f\"Z-score: {z}\")\n",
    "print(f\"P-value: {p_value}\")\n",
    "\n",
    "# Output the conclusion\n",
    "isRejected = isNullHypothesisRejected(alpha, p_value)\n",
    "printConclusion(isRejected)"
   ]
  },
  {
   "cell_type": "markdown",
   "metadata": {},
   "source": [
    "## Question 4: Two-Proportion z-test (Right-tailed Test)"
   ]
  },
  {
   "cell_type": "markdown",
   "metadata": {},
   "source": [
    "**Scenario**: A company is comparing the promotion rates between male and female employees. The company claims that males are promoted at a higher rate than females. Out of 80 male employees, 45 have been promoted, and out of 70 female employees, 35 have been promoted. Test if males are promoted at a higher rate than females at the 5% significance level."
   ]
  },
  {
   "cell_type": "markdown",
   "metadata": {},
   "source": [
    "### State the Null Hypothesis (H₀) and Alternative Hypothesis (H₁).\n",
    "- Null Hypothesis (H₀): The proportion of promoted males is higher than that of females.  \n",
    "\n",
    "       H₀: p1 > p2\n",
    "\n",
    "- Alternative Hypothesis (H₁): The proportion of promoted males is less than or equal to that of females.  \n",
    "\n",
    "       H₁: p1 ≤ p2"
   ]
  },
  {
   "cell_type": "code",
   "execution_count": 35,
   "metadata": {},
   "outputs": [
    {
     "name": "stdout",
     "output_type": "stream",
     "text": [
      "Z-score: 0.7654655446197431\n",
      "P-value: 0.2219971880115048\n",
      "Fail to reject the null hypothesis.\n"
     ]
    }
   ],
   "source": [
    "# Parameters\n",
    "n1 = 80  # sample size group 1\n",
    "x1 = 45  # successes group 1\n",
    "n2 = 70  # sample size group 2\n",
    "x2 = 35  # successes group 2\n",
    "# Sample proportions\n",
    "p1 = x1 / n1\n",
    "p2 = x2 / n2\n",
    "\n",
    "# Pooled proportion\n",
    "p_hat = (x1 + x2) / (n1 + n2)\n",
    "# Standard error\n",
    "se = math.sqrt(p_hat * (1 - p_hat) * ((1 / n1) + (1 / n2)))\n",
    "# z-test statistic\n",
    "z = (p1 - p2) / se\n",
    "# p-value (Right-tailed test)\n",
    "p_value = 1 - stats.norm.cdf(z)\n",
    "\n",
    "# Output the results\n",
    "print(f\"Z-score: {z}\")\n",
    "print(f\"P-value: {p_value}\")\n",
    "\n",
    "# Output the conclusion\n",
    "isRejected = isNullHypothesisRejected(alpha, p_value)\n",
    "printConclusion(isRejected)"
   ]
  },
  {
   "cell_type": "markdown",
   "metadata": {},
   "source": [
    "## Question 5: One-Proportion z-test (Two-tailed Test)"
   ]
  },
  {
   "cell_type": "markdown",
   "metadata": {},
   "source": [
    "**Scenario**: A car dealership claims that 40% of their sales come from repeat customers. You sample 100 sales records and find that 30 of them are from repeat customers. Test whether the dealership's claim is accurate at a 5% significance level."
   ]
  },
  {
   "cell_type": "markdown",
   "metadata": {},
   "source": [
    "### State the Null Hypothesis (H₀) and Alternative Hypothesis (H₁).\n",
    "- Null Hypothesis (H₀): The proportion is 40%.  \n",
    "\n",
    "       H₀: p = 0.40\n",
    "\n",
    "- Alternative Hypothesis (H₁): The proportion is different from 40%.  \n",
    "\n",
    "       H₁: p ≠ 0.40"
   ]
  },
  {
   "cell_type": "code",
   "execution_count": 36,
   "metadata": {},
   "outputs": [
    {
     "name": "stdout",
     "output_type": "stream",
     "text": [
      "Z-score: -2.041241452319316\n",
      "P-value: 0.04122683333716348\n",
      "Reject the null hypothesis.\n"
     ]
    }
   ],
   "source": [
    "# Parameters\n",
    "alpha = 0.05\n",
    "n = 100  # sample size\n",
    "x = 30  # number of successes\n",
    "p0 = 0.40  # hypothesized proportion\n",
    "\n",
    "# Sample proportion\n",
    "p_hat = x / n\n",
    "\n",
    "# Standard error\n",
    "se = math.sqrt((p0 * (1 - p0)) / n)\n",
    "\n",
    "# z-test statistic\n",
    "z = (p_hat - p0) / se\n",
    "\n",
    "# p-value (Two-tailed test)\n",
    "p_value = 2 * (1 - stats.norm.cdf(abs(z)))\n",
    "\n",
    "# Output the results\n",
    "print(f\"Z-score: {z}\")\n",
    "print(f\"P-value: {p_value}\")\n",
    "\n",
    "# Output the conclusion\n",
    "isRejected = isNullHypothesisRejected(alpha, p_value)\n",
    "printConclusion(isRejected)"
   ]
  }
 ],
 "metadata": {
  "kernelspec": {
   "display_name": "venv",
   "language": "python",
   "name": "python3"
  },
  "language_info": {
   "codemirror_mode": {
    "name": "ipython",
    "version": 3
   },
   "file_extension": ".py",
   "mimetype": "text/x-python",
   "name": "python",
   "nbconvert_exporter": "python",
   "pygments_lexer": "ipython3",
   "version": "3.12.4"
  }
 },
 "nbformat": 4,
 "nbformat_minor": 2
}
