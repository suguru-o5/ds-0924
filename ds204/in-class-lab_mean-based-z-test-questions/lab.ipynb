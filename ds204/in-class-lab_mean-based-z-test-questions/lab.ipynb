{
 "cells": [
  {
   "cell_type": "markdown",
   "metadata": {},
   "source": [
    "# In-Class Lab: Mean-Based Z-Test Questions"
   ]
  },
  {
   "cell_type": "markdown",
   "metadata": {},
   "source": [
    "## Instructions\n",
    "For each question, follow these steps:\n",
    "1. State the Null Hypothesis (H₀) and Alternative Hypothesis (H₁).\n",
    "2. Calculate the Z-score and p-value.\n",
    "3. Compare the p-value with the significance level (α = 0.05).\n",
    "4. Draw a conclusion: Decide whether to reject or fail to reject the null\n",
    "hypothesis."
   ]
  },
  {
   "cell_type": "markdown",
   "metadata": {},
   "source": [
    "### Definiton of the common function\n",
    "Here defining a function used to decide whether to reject or fail the null hypethesis."
   ]
  },
  {
   "cell_type": "code",
   "execution_count": 87,
   "metadata": {},
   "outputs": [],
   "source": [
    "def printConclusion(alpha, p_value):\n",
    "    if p_value < alpha:\n",
    "        print(\n",
    "            \"Reject the null hypothesis: The sample mean is significantly different from the claimed average.\"\n",
    "        )\n",
    "    else:\n",
    "        print(\n",
    "            \"Fail to reject the null hypothesis: The sample mean is not significantly different from the claimed average.\"\n",
    "        )"
   ]
  },
  {
   "cell_type": "markdown",
   "metadata": {},
   "source": [
    "## Question 1: Average Time on a Website"
   ]
  },
  {
   "cell_type": "markdown",
   "metadata": {},
   "source": [
    "**Scenario**: A website owner claims that the average time a visitor spends on their site is 10 minutes. A sample of 100 visitors shows an average time of 9.8 minutes\n",
    "with a population standard deviation of 1.5 minutes.  \n",
    "\n",
    "**Task**: Test the website owner's claim at a 5% significance level."
   ]
  },
  {
   "cell_type": "markdown",
   "metadata": {},
   "source": [
    "### State the Null Hypothesis (H₀) and Alternative Hypothesis (H₁).\n",
    "- Null Hypothesis (H₀): The average time a visitor spends on the site is 10 minutes.  \n",
    "\n",
    "       H₀:μ=10\n",
    "\n",
    "- Alternative Hypothesis (H₁): The average time a visitor spends on the site is different from 10 minutes.\n",
    "\n",
    "       H₁μ≠10"
   ]
  },
  {
   "cell_type": "markdown",
   "metadata": {},
   "source": [
    "### Solution"
   ]
  },
  {
   "cell_type": "code",
   "execution_count": 88,
   "metadata": {},
   "outputs": [
    {
     "name": "stdout",
     "output_type": "stream",
     "text": [
      "Z-score: -1.3333333333333286\n",
      "P-value: 0.18242243945173708\n",
      "Fail to reject the null hypothesis: The sample mean is not significantly different from the claimed average.\n"
     ]
    }
   ],
   "source": [
    "import numpy as np\n",
    "import scipy.stats as stats\n",
    "\n",
    "# Given data\n",
    "population_mean = 10\n",
    "sample_mean = 9.8\n",
    "sample_std = 1.5\n",
    "sample_size = 100\n",
    "alpha = 0.05\n",
    "\n",
    "# Calculate the Z-score (two-tailed test)\n",
    "z = (sample_mean - population_mean) / (sample_std / np.sqrt(sample_size))\n",
    "p_value = 2 * (1 - stats.norm.cdf(abs(z)))\n",
    "\n",
    "# Output the results\n",
    "print(f\"Z-score: {z}\")\n",
    "print(f\"P-value: {p_value}\")\n",
    "\n",
    "# Conclusion\n",
    "printConclusion(alpha, p_value)"
   ]
  },
  {
   "cell_type": "markdown",
   "metadata": {},
   "source": [
    "## Question 2: Battery Life of Smartphones"
   ]
  },
  {
   "cell_type": "markdown",
   "metadata": {},
   "source": [
    "**Scenario**: A smartphone manufacturer claims that the average battery life of their\n",
    "new model is **at least** 20 hours. A sample of 80 phones shows an average battery\n",
    "life of 19.5 hours with a population standard deviation of 1.2 hours.\n",
    "\n",
    "**Task**: Test the manufacturer's claim at a 5% significance level."
   ]
  },
  {
   "cell_type": "markdown",
   "metadata": {},
   "source": [
    "### State the Null Hypothesis (H₀) and Alternative Hypothesis (H₁).\n",
    "- Null Hypothesis (H₀): The average battery life of their new model is at least 20 hours.  \n",
    "\n",
    "       H₀:μ≥20\n",
    "\n",
    "- Alternative Hypothesis (H₁): The average battery life of their new model is less than 20 hours.\n",
    "\n",
    "       H₁μ<20"
   ]
  },
  {
   "cell_type": "markdown",
   "metadata": {},
   "source": [
    "### Solution"
   ]
  },
  {
   "cell_type": "code",
   "execution_count": 89,
   "metadata": {},
   "outputs": [
    {
     "name": "stdout",
     "output_type": "stream",
     "text": [
      "Z-score: -3.7267799624996503\n",
      "P-value: 9.697081455185922e-05\n",
      "Reject the null hypothesis: The sample mean is significantly different from the claimed average.\n"
     ]
    }
   ],
   "source": [
    "import numpy as np\n",
    "import scipy.stats as stats\n",
    "\n",
    "# Given data\n",
    "population_mean = 20\n",
    "sample_mean = 19.5\n",
    "sample_std = 1.2\n",
    "sample_size = 80\n",
    "alpha = 0.05\n",
    "\n",
    "# Calculate the Z-score (one tailed test)\n",
    "z = (sample_mean - population_mean) / (sample_std / np.sqrt(sample_size))\n",
    "p_value = stats.norm.cdf(z)\n",
    "\n",
    "# Output the results\n",
    "print(f\"Z-score: {z}\")\n",
    "print(f\"P-value: {p_value}\")\n",
    "\n",
    "# Conclusion\n",
    "printConclusion(alpha, p_value)"
   ]
  },
  {
   "cell_type": "markdown",
   "metadata": {},
   "source": [
    "## Question 3: Average Weekly Hours Worked"
   ]
  },
  {
   "cell_type": "markdown",
   "metadata": {},
   "source": [
    "**Scenario**: A company claims that their employees work an average of 40 hours\n",
    "per week. A sample of 150 employees shows an average workweek of 39.6 hours with a population standard deviation of 2.0 hours.\n",
    "\n",
    "**Task**: Test the company's claim at a 5% significance level."
   ]
  },
  {
   "cell_type": "markdown",
   "metadata": {},
   "source": [
    "### State the Null Hypothesis (H₀) and Alternative Hypothesis (H₁).\n",
    "- Null Hypothesis (H₀): The average working time of their employees is 40 hours.  \n",
    "\n",
    "       H₀:μ=40\n",
    "\n",
    "- Alternative Hypothesis (H₁): The average working time of their employees is different from 40 hours.\n",
    "\n",
    "       H₁:μ≠40"
   ]
  },
  {
   "cell_type": "markdown",
   "metadata": {},
   "source": [
    "### Solution"
   ]
  },
  {
   "cell_type": "code",
   "execution_count": 90,
   "metadata": {},
   "outputs": [
    {
     "name": "stdout",
     "output_type": "stream",
     "text": [
      "Z-score: -2.4494897427831694\n",
      "P-value: 0.014305878435429964\n",
      "Reject the null hypothesis: The sample mean is significantly different from the claimed average.\n"
     ]
    }
   ],
   "source": [
    "import numpy as np\n",
    "import scipy.stats as stats\n",
    "\n",
    "# Given data\n",
    "population_mean = 40\n",
    "sample_mean = 39.6\n",
    "sample_std = 2.0\n",
    "sample_size = 150\n",
    "alpha = 0.05\n",
    "\n",
    "# Calculate the Z-score (two-tailed test)\n",
    "z = (sample_mean - population_mean) / (sample_std / np.sqrt(sample_size))\n",
    "p_value = 2 * (1 - stats.norm.cdf(abs(z)))\n",
    "\n",
    "# Output the results\n",
    "print(f\"Z-score: {z}\")\n",
    "print(f\"P-value: {p_value}\")\n",
    "\n",
    "# Conclusion\n",
    "printConclusion(alpha, p_value)"
   ]
  },
  {
   "cell_type": "markdown",
   "metadata": {},
   "source": [
    "## Question 4: Weight of Packaged Goods"
   ]
  },
  {
   "cell_type": "markdown",
   "metadata": {},
   "source": [
    "**Scenario**: A food processing company claims that their packaged goods weigh an average of 500 grams. A sample of 120 packages shows an average weight of 498 grams with a population standard deviation of 5 grams.\n",
    "\n",
    "**Task**: Test the company's claim at a 5% significance level."
   ]
  },
  {
   "cell_type": "markdown",
   "metadata": {},
   "source": [
    "### State the Null Hypothesis (H₀) and Alternative Hypothesis (H₁).\n",
    "- Null Hypothesis (H₀): The average weight of their packaged goods is 500 grams.  \n",
    "\n",
    "       H₀:μ=500\n",
    "\n",
    "- Alternative Hypothesis (H₁): The average weight of their packaged goods is different from 500 grams.  \n",
    "\n",
    "       H₁:μ≠500"
   ]
  },
  {
   "cell_type": "code",
   "execution_count": 91,
   "metadata": {},
   "outputs": [
    {
     "name": "stdout",
     "output_type": "stream",
     "text": [
      "Z-score: -4.381780460041329\n",
      "P-value: 1.1771339097688127e-05\n",
      "Reject the null hypothesis: The sample mean is significantly different from the claimed average.\n"
     ]
    }
   ],
   "source": [
    "import numpy as np\n",
    "import scipy.stats as stats\n",
    "\n",
    "# Given data\n",
    "population_mean = 500\n",
    "sample_mean = 498\n",
    "sample_std = 5\n",
    "sample_size = 120\n",
    "alpha = 0.05\n",
    "\n",
    "# Calculate the Z-score (two-tailed test)\n",
    "z = (sample_mean - population_mean) / (sample_std / np.sqrt(sample_size))\n",
    "p_value = 2 * (1 - stats.norm.cdf(abs(z)))\n",
    "\n",
    "# Output the results\n",
    "print(f\"Z-score: {z}\")\n",
    "print(f\"P-value: {p_value}\")\n",
    "\n",
    "# Conclusion\n",
    "printConclusion(alpha, p_value)"
   ]
  },
  {
   "cell_type": "markdown",
   "metadata": {},
   "source": [
    "## Question 5: Average Speed of Delivery"
   ]
  },
  {
   "cell_type": "markdown",
   "metadata": {},
   "source": [
    "**Scenario**: A delivery company claims that the average delivery time for their services is less than 3 hours. A sample of 60 deliveries shows an average delivery time of 3.2 hours with a population standard deviation of 0.6 hours.\n",
    "\n",
    "**Task**: Test the company's claim at a 5% significance level."
   ]
  },
  {
   "cell_type": "markdown",
   "metadata": {},
   "source": [
    "### State the Null Hypothesis (H₀) and Alternative Hypothesis (H₁).\n",
    "- Null Hypothesis (H₀): The average delivery time for their service is less than 3 hours.  \n",
    "\n",
    "       H₀:μ<3\n",
    "\n",
    "- Alternative Hypothesis (H₁):The average delivery time for their service is more than or equal to 3 hours.  \n",
    "\n",
    "       H₁μ≥3"
   ]
  },
  {
   "cell_type": "code",
   "execution_count": 92,
   "metadata": {},
   "outputs": [
    {
     "name": "stdout",
     "output_type": "stream",
     "text": [
      "Z-score: 2.5819888974716134\n",
      "P-value: 0.004911637253759538\n",
      "Reject the null hypothesis: The sample mean is significantly different from the claimed average.\n"
     ]
    }
   ],
   "source": [
    "import numpy as np\n",
    "import scipy.stats as stats\n",
    "\n",
    "# Given data\n",
    "population_mean = 3\n",
    "sample_mean = 3.2\n",
    "sample_std = 0.6\n",
    "sample_size = 60\n",
    "alpha = 0.05\n",
    "\n",
    "# Calculate the Z-score (one tailed test)\n",
    "z = (sample_mean - population_mean) / (sample_std / np.sqrt(sample_size))\n",
    "p_value = 1 - stats.norm.cdf(z)\n",
    "\n",
    "# Output the results\n",
    "print(f\"Z-score: {z}\")\n",
    "print(f\"P-value: {p_value}\")\n",
    "\n",
    "# Conclusion\n",
    "printConclusion(alpha, p_value)"
   ]
  },
  {
   "cell_type": "markdown",
   "metadata": {},
   "source": [
    "## Question 6: Average Daily Water Consumption"
   ]
  },
  {
   "cell_type": "markdown",
   "metadata": {},
   "source": [
    "**Scenario**: A city claims that the average daily water consumption per household is more than 160 liters. A sample of 90 households shows an average consumption of 158 liters with a population standard deviation of 10 liters.\n",
    "\n",
    "**Task**: Test the city's claim at a 5% significance level."
   ]
  },
  {
   "cell_type": "markdown",
   "metadata": {},
   "source": [
    "### State the Null Hypothesis (H₀) and Alternative Hypothesis (H₁).\n",
    "- Null Hypothesis (H₀): The average daily water comsumption per household is more than 160 liters.  \n",
    "\n",
    "       H₀:μ>160\n",
    "\n",
    "- Alternative Hypothesis (H₁): The average daily water comsumption per household is less than or equal to 160 liters.  \n",
    "\n",
    "       H₁μ≤160"
   ]
  },
  {
   "cell_type": "code",
   "execution_count": 93,
   "metadata": {},
   "outputs": [
    {
     "name": "stdout",
     "output_type": "stream",
     "text": [
      "Z-score: -1.8973665961010275\n",
      "P-value: 0.02888978556179863\n",
      "Reject the null hypothesis: The sample mean is significantly different from the claimed average.\n"
     ]
    }
   ],
   "source": [
    "import numpy as np\n",
    "import scipy.stats as stats\n",
    "\n",
    "# Given data\n",
    "population_mean = 160\n",
    "sample_mean = 158\n",
    "sample_std = 10\n",
    "sample_size = 90\n",
    "alpha = 0.05\n",
    "\n",
    "# Calculate the Z-score (one tailed test)\n",
    "z = (sample_mean - population_mean) / (sample_std / np.sqrt(sample_size))\n",
    "p_value = stats.norm.cdf(z)\n",
    "\n",
    "# Output the results\n",
    "print(f\"Z-score: {z}\")\n",
    "print(f\"P-value: {p_value}\")\n",
    "\n",
    "# Conclusion\n",
    "printConclusion(alpha, p_value)"
   ]
  },
  {
   "cell_type": "markdown",
   "metadata": {},
   "source": [
    "## Question 7: Average SAT Scores"
   ]
  },
  {
   "cell_type": "markdown",
   "metadata": {},
   "source": [
    "**Scenario**: A school district claims that their students have an average SAT score of 1100. A sample of 200 students shows an average score of 1085 with a population standard deviation of 30 points.\n",
    "\n",
    "**Task**: Test the school district's claim at a 5% significance level."
   ]
  },
  {
   "cell_type": "markdown",
   "metadata": {},
   "source": [
    "### State the Null Hypothesis (H₀) and Alternative Hypothesis (H₁).\n",
    "- Null Hypothesis (H₀): The average SAT score of their students is 1100.  \n",
    "\n",
    "       H₀:μ=1100\n",
    "\n",
    "- Alternative Hypothesis (H₁): The average SAT score of their students is different from 1100.  \n",
    "\n",
    "       H₁:μ≠1100"
   ]
  },
  {
   "cell_type": "code",
   "execution_count": 94,
   "metadata": {},
   "outputs": [
    {
     "name": "stdout",
     "output_type": "stream",
     "text": [
      "Z-score: -7.0710678118654755\n",
      "P-value: 1.5374368445009168e-12\n",
      "Reject the null hypothesis: The sample mean is significantly different from the claimed average.\n"
     ]
    }
   ],
   "source": [
    "import numpy as np\n",
    "import scipy.stats as stats\n",
    "\n",
    "# Given data\n",
    "population_mean = 1100\n",
    "sample_mean = 1085\n",
    "sample_std = 30\n",
    "sample_size = 200\n",
    "alpha = 0.05\n",
    "\n",
    "# Calculate the Z-score (two-tailed test)\n",
    "z = (sample_mean - population_mean) / (sample_std / np.sqrt(sample_size))\n",
    "p_value = 2 * (1 - stats.norm.cdf(abs(z)))\n",
    "\n",
    "# Output the results\n",
    "print(f\"Z-score: {z}\")\n",
    "print(f\"P-value: {p_value}\")\n",
    "\n",
    "# Conclusion\n",
    "printConclusion(alpha, p_value)"
   ]
  },
  {
   "cell_type": "markdown",
   "metadata": {},
   "source": [
    "## Question 8: Average Time Spent Exercising"
   ]
  },
  {
   "cell_type": "markdown",
   "metadata": {},
   "source": [
    "**Scenario**: A fitness app claims that its users spend at least 45 minutes exercising daily. A sample of 95 users shows an average exercise time of 44 minutes with a population standard deviation of 4 minutes.\n",
    "\n",
    "**Task**: Test the app's claim at a 5% significance level."
   ]
  },
  {
   "cell_type": "markdown",
   "metadata": {},
   "source": [
    "### State the Null Hypothesis (H₀) and Alternative Hypothesis (H₁).\n",
    "- Null Hypothesis (H₀): The average exercising time of their users is at least 45 minutes.  \n",
    "\n",
    "       H₀:μ≥45\n",
    "\n",
    "- Alternative Hypothesis (H₁): The average exercising time of their users is less than 45 minutes.  \n",
    "\n",
    "       H₁:μ<45"
   ]
  },
  {
   "cell_type": "code",
   "execution_count": 95,
   "metadata": {},
   "outputs": [
    {
     "name": "stdout",
     "output_type": "stream",
     "text": [
      "Z-score: -2.436698586202241\n",
      "P-value: 0.007411014184037263\n",
      "Reject the null hypothesis: The sample mean is significantly different from the claimed average.\n"
     ]
    }
   ],
   "source": [
    "import numpy as np\n",
    "import scipy.stats as stats\n",
    "\n",
    "# Given data\n",
    "population_mean = 45\n",
    "sample_mean = 44\n",
    "sample_std = 4\n",
    "sample_size = 95\n",
    "alpha = 0.05\n",
    "\n",
    "# Calculate the Z-score (one tailed test)\n",
    "z = (sample_mean - population_mean) / (sample_std / np.sqrt(sample_size))\n",
    "p_value = stats.norm.cdf(z)\n",
    "\n",
    "# Output the results\n",
    "print(f\"Z-score: {z}\")\n",
    "print(f\"P-value: {p_value}\")\n",
    "\n",
    "# Conclusion\n",
    "printConclusion(alpha, p_value)"
   ]
  },
  {
   "cell_type": "markdown",
   "metadata": {},
   "source": [
    "## Question 9: Average Monthly Rent"
   ]
  },
  {
   "cell_type": "markdown",
   "metadata": {},
   "source": [
    "**Scenario**: A real estate company claims that the average monthly rent in a particular city is $1,500. A sample of 70 apartments shows an average rent of $1,470 with a population standard deviation of $80.\n",
    "\n",
    "**Task**: Test the real estate company's claim at a 5% significance level."
   ]
  },
  {
   "cell_type": "markdown",
   "metadata": {},
   "source": [
    "### State the Null Hypothesis (H₀) and Alternative Hypothesis (H₁).\n",
    "- Null Hypothesis (H₀): The average monthly rent in a particular city is $1,500.  \n",
    "\n",
    "       H₀:μ=1500\n",
    "\n",
    "- Alternative Hypothesis (H₁): The average monthly rent in a particular city is different from $1,500.  \n",
    "\n",
    "       H₁:μ≠1500"
   ]
  },
  {
   "cell_type": "code",
   "execution_count": 96,
   "metadata": {},
   "outputs": [
    {
     "name": "stdout",
     "output_type": "stream",
     "text": [
      "Z-score: -3.1374750995027836\n",
      "P-value: 0.0017040974810746956\n",
      "Reject the null hypothesis: The sample mean is significantly different from the claimed average.\n"
     ]
    }
   ],
   "source": [
    "import numpy as np\n",
    "import scipy.stats as stats\n",
    "\n",
    "# Given data\n",
    "population_mean = 1500\n",
    "sample_mean = 1470\n",
    "sample_std = 80\n",
    "sample_size = 70\n",
    "alpha = 0.05\n",
    "\n",
    "# Calculate the Z-score (two-tailed test)\n",
    "z = (sample_mean - population_mean) / (sample_std / np.sqrt(sample_size))\n",
    "p_value = 2 * (1 - stats.norm.cdf(abs(z)))\n",
    "\n",
    "# Output the results\n",
    "print(f\"Z-score: {z}\")\n",
    "print(f\"P-value: {p_value}\")\n",
    "\n",
    "# Conclusion\n",
    "printConclusion(alpha, p_value)"
   ]
  },
  {
   "cell_type": "markdown",
   "metadata": {},
   "source": [
    "## Question 10: Average Weight Loss"
   ]
  },
  {
   "cell_type": "markdown",
   "metadata": {},
   "source": [
    "**Scenario**: A weight loss program claims that participants lose at least 12 kg in 3 months. A sample of 50 participants shows an average weight loss of 11.5 kg with a population standard deviation of 1.8 kg.\n",
    "\n",
    "**Task**: Test the program's claim at a 5% significance level"
   ]
  },
  {
   "cell_type": "markdown",
   "metadata": {},
   "source": [
    "### State the Null Hypothesis (H₀) and Alternative Hypothesis (H₁).\n",
    "- Null Hypothesis (H₀): The average weight loss of their participants city is at least 12 kg in 3 months.  \n",
    "\n",
    "       H₀:μ≥12\n",
    "\n",
    "- Alternative Hypothesis (H₁):The average weight loss of their participants city is less than 12 kg in 3 months.  \n",
    "\n",
    "       H₁:μ<12"
   ]
  },
  {
   "cell_type": "code",
   "execution_count": 97,
   "metadata": {},
   "outputs": [
    {
     "name": "stdout",
     "output_type": "stream",
     "text": [
      "Z-score: -1.9641855032959654\n",
      "P-value: 0.02475429167307885\n",
      "Reject the null hypothesis: The sample mean is significantly different from the claimed average.\n"
     ]
    }
   ],
   "source": [
    "import numpy as np\n",
    "import scipy.stats as stats\n",
    "\n",
    "# Given data\n",
    "population_mean = 12\n",
    "sample_mean = 11.5\n",
    "sample_std = 1.8\n",
    "sample_size = 50\n",
    "alpha = 0.05\n",
    "\n",
    "# Calculate the Z-score (one tailed test)\n",
    "z = (sample_mean - population_mean) / (sample_std / np.sqrt(sample_size))\n",
    "p_value = stats.norm.cdf(z)\n",
    "\n",
    "# Output the results\n",
    "print(f\"Z-score: {z}\")\n",
    "print(f\"P-value: {p_value}\")\n",
    "\n",
    "# Conclusion\n",
    "printConclusion(alpha, p_value)"
   ]
  }
 ],
 "metadata": {
  "kernelspec": {
   "display_name": "venv",
   "language": "python",
   "name": "python3"
  },
  "language_info": {
   "codemirror_mode": {
    "name": "ipython",
    "version": 3
   },
   "file_extension": ".py",
   "mimetype": "text/x-python",
   "name": "python",
   "nbconvert_exporter": "python",
   "pygments_lexer": "ipython3",
   "version": "3.12.4"
  }
 },
 "nbformat": 4,
 "nbformat_minor": 2
}
