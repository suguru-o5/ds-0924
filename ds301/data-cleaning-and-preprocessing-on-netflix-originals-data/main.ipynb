{
 "cells": [
  {
   "cell_type": "markdown",
   "metadata": {},
   "source": [
    "# Data Cleaning and Preprocessing on Netflix Originals Data"
   ]
  },
  {
   "cell_type": "markdown",
   "metadata": {},
   "source": [
    "- Perform the initial analysis on the dataset. Print the first 10 rows of the data to see how the data looks like."
   ]
  },
  {
   "cell_type": "code",
   "execution_count": 247,
   "metadata": {},
   "outputs": [],
   "source": [
    "# Import libraries\n",
    "import pandas as pd\n",
    "import numpy as np\n",
    "import matplotlib.pyplot as plt\n",
    "import seaborn as sns\n",
    "import plotly.express as px\n",
    "from sklearn.model_selection import train_test_split\n",
    "from sklearn.linear_model import LinearRegression\n",
    "from sklearn.metrics import mean_absolute_error, mean_squared_error, r2_score\n",
    "from sklearn.preprocessing import (\n",
    "    LabelEncoder,\n",
    "    StandardScaler,\n",
    "    MinMaxScaler,\n",
    "    RobustScaler,\n",
    ")"
   ]
  },
  {
   "cell_type": "code",
   "execution_count": 248,
   "metadata": {},
   "outputs": [],
   "source": [
    "# Read input data\n",
    "df = pd.read_csv(\"netflix_originals.csv\")"
   ]
  },
  {
   "cell_type": "code",
   "execution_count": 249,
   "metadata": {},
   "outputs": [
    {
     "data": {
      "text/html": [
       "<div>\n",
       "<style scoped>\n",
       "    .dataframe tbody tr th:only-of-type {\n",
       "        vertical-align: middle;\n",
       "    }\n",
       "\n",
       "    .dataframe tbody tr th {\n",
       "        vertical-align: top;\n",
       "    }\n",
       "\n",
       "    .dataframe thead th {\n",
       "        text-align: right;\n",
       "    }\n",
       "</style>\n",
       "<table border=\"1\" class=\"dataframe\">\n",
       "  <thead>\n",
       "    <tr style=\"text-align: right;\">\n",
       "      <th></th>\n",
       "      <th>titles</th>\n",
       "      <th>years</th>\n",
       "      <th>genres</th>\n",
       "      <th>imdb</th>\n",
       "      <th>runtime</th>\n",
       "      <th>description</th>\n",
       "      <th>stars</th>\n",
       "      <th>votes</th>\n",
       "      <th>type</th>\n",
       "      <th>original</th>\n",
       "    </tr>\n",
       "  </thead>\n",
       "  <tbody>\n",
       "    <tr>\n",
       "      <th>0</th>\n",
       "      <td>Zumbo's Just Desserts</td>\n",
       "      <td>2016</td>\n",
       "      <td>Reality-TV</td>\n",
       "      <td>6.9</td>\n",
       "      <td>52 min</td>\n",
       "      <td>Amateur Australian chefs compete to impress pa...</td>\n",
       "      <td>Gigi Falanga, Rachel Khoo, Adriano Zumbo</td>\n",
       "      <td>1,779</td>\n",
       "      <td>TV Show</td>\n",
       "      <td>Netflix</td>\n",
       "    </tr>\n",
       "    <tr>\n",
       "      <th>1</th>\n",
       "      <td>Zona Rosa</td>\n",
       "      <td>2019</td>\n",
       "      <td>Comedy</td>\n",
       "      <td>6.0</td>\n",
       "      <td>NaN</td>\n",
       "      <td>Add a Plot</td>\n",
       "      <td>Ray Contreras, Pablo Morán, Manu Nna, Ana Juli...</td>\n",
       "      <td>33</td>\n",
       "      <td>TV Show</td>\n",
       "      <td>Netflix</td>\n",
       "    </tr>\n",
       "    <tr>\n",
       "      <th>2</th>\n",
       "      <td>Young Wallander</td>\n",
       "      <td>2020</td>\n",
       "      <td>Crime, Drama, Mystery</td>\n",
       "      <td>6.7</td>\n",
       "      <td>NaN</td>\n",
       "      <td>Follow recently graduated police officer Kurt ...</td>\n",
       "      <td>Adam Pålsson, Leanne Best, Richard Dillane, El...</td>\n",
       "      <td>5,419</td>\n",
       "      <td>TV Show</td>\n",
       "      <td>Netflix</td>\n",
       "    </tr>\n",
       "    <tr>\n",
       "      <th>3</th>\n",
       "      <td>You vs. Wild</td>\n",
       "      <td>2019</td>\n",
       "      <td>Adventure, Reality-TV</td>\n",
       "      <td>6.7</td>\n",
       "      <td>20 min</td>\n",
       "      <td>In this interactive series, you'll make key de...</td>\n",
       "      <td>Bear Grylls</td>\n",
       "      <td>1,977</td>\n",
       "      <td>TV Show</td>\n",
       "      <td>Netflix</td>\n",
       "    </tr>\n",
       "    <tr>\n",
       "      <th>4</th>\n",
       "      <td>You</td>\n",
       "      <td>2018</td>\n",
       "      <td>Crime, Drama, Romance</td>\n",
       "      <td>7.8</td>\n",
       "      <td>45 min</td>\n",
       "      <td>A dangerously charming, intensely obsessive yo...</td>\n",
       "      <td>Penn Badgley, Victoria Pedretti, Ambyr Childer...</td>\n",
       "      <td>134,932</td>\n",
       "      <td>TV Show</td>\n",
       "      <td>Netflix</td>\n",
       "    </tr>\n",
       "    <tr>\n",
       "      <th>5</th>\n",
       "      <td>YooHoo to the Rescue</td>\n",
       "      <td>2019</td>\n",
       "      <td>Family</td>\n",
       "      <td>6.9</td>\n",
       "      <td>NaN</td>\n",
       "      <td>In a series of magical missions, quick-witted ...</td>\n",
       "      <td>Ryan Bartley, Kira Buckland, Lucien Dodge, Kyl...</td>\n",
       "      <td>37</td>\n",
       "      <td>TV Show</td>\n",
       "      <td>Netflix</td>\n",
       "    </tr>\n",
       "    <tr>\n",
       "      <th>6</th>\n",
       "      <td>Yankee</td>\n",
       "      <td>2019</td>\n",
       "      <td>Drama</td>\n",
       "      <td>6.0</td>\n",
       "      <td>40 min</td>\n",
       "      <td>On the run from the police, an Arizona man cro...</td>\n",
       "      <td>Pablo Lyle, Ana Layevska, Pamela Almanza, Seba...</td>\n",
       "      <td>458</td>\n",
       "      <td>TV Show</td>\n",
       "      <td>Netflix</td>\n",
       "    </tr>\n",
       "    <tr>\n",
       "      <th>7</th>\n",
       "      <td>Wu Assassins</td>\n",
       "      <td>2019</td>\n",
       "      <td>Action, Crime, Drama</td>\n",
       "      <td>6.4</td>\n",
       "      <td>44 min</td>\n",
       "      <td>A warrior chosen as the latest and last Wu Ass...</td>\n",
       "      <td>Iko Uwais, Byron Mann, Li Jun Li, Lawrence Kao</td>\n",
       "      <td>9,336</td>\n",
       "      <td>TV Show</td>\n",
       "      <td>Netflix</td>\n",
       "    </tr>\n",
       "    <tr>\n",
       "      <th>8</th>\n",
       "      <td>World's Most Wanted</td>\n",
       "      <td>2020</td>\n",
       "      <td>Documentary, Crime</td>\n",
       "      <td>7.1</td>\n",
       "      <td>NaN</td>\n",
       "      <td>Heinous criminals have avoided capture despite...</td>\n",
       "      <td>Jennifer Julian, Thomas Fuentes, Calogero Germ...</td>\n",
       "      <td>1,495</td>\n",
       "      <td>TV Show</td>\n",
       "      <td>Netflix</td>\n",
       "    </tr>\n",
       "    <tr>\n",
       "      <th>9</th>\n",
       "      <td>World of Winx</td>\n",
       "      <td>2016</td>\n",
       "      <td>Animation, Action, Comedy</td>\n",
       "      <td>6.8</td>\n",
       "      <td>30 min</td>\n",
       "      <td>The Winx travel all over the world searching f...</td>\n",
       "      <td>Rebecca Soler, Alysha Deslorieux, Haven Pascha...</td>\n",
       "      <td>556</td>\n",
       "      <td>TV Show</td>\n",
       "      <td>Netflix</td>\n",
       "    </tr>\n",
       "  </tbody>\n",
       "</table>\n",
       "</div>"
      ],
      "text/plain": [
       "                  titles  years                     genres  imdb runtime  \\\n",
       "0  Zumbo's Just Desserts   2016                 Reality-TV   6.9  52 min   \n",
       "1              Zona Rosa   2019                     Comedy   6.0     NaN   \n",
       "2        Young Wallander   2020      Crime, Drama, Mystery   6.7     NaN   \n",
       "3           You vs. Wild   2019      Adventure, Reality-TV   6.7  20 min   \n",
       "4                    You   2018      Crime, Drama, Romance   7.8  45 min   \n",
       "5   YooHoo to the Rescue   2019                     Family   6.9     NaN   \n",
       "6                 Yankee   2019                      Drama   6.0  40 min   \n",
       "7           Wu Assassins   2019       Action, Crime, Drama   6.4  44 min   \n",
       "8    World's Most Wanted   2020         Documentary, Crime   7.1     NaN   \n",
       "9          World of Winx   2016  Animation, Action, Comedy   6.8  30 min   \n",
       "\n",
       "                                         description  \\\n",
       "0  Amateur Australian chefs compete to impress pa...   \n",
       "1                                         Add a Plot   \n",
       "2  Follow recently graduated police officer Kurt ...   \n",
       "3  In this interactive series, you'll make key de...   \n",
       "4  A dangerously charming, intensely obsessive yo...   \n",
       "5  In a series of magical missions, quick-witted ...   \n",
       "6  On the run from the police, an Arizona man cro...   \n",
       "7  A warrior chosen as the latest and last Wu Ass...   \n",
       "8  Heinous criminals have avoided capture despite...   \n",
       "9  The Winx travel all over the world searching f...   \n",
       "\n",
       "                                               stars    votes     type  \\\n",
       "0           Gigi Falanga, Rachel Khoo, Adriano Zumbo    1,779  TV Show   \n",
       "1  Ray Contreras, Pablo Morán, Manu Nna, Ana Juli...       33  TV Show   \n",
       "2  Adam Pålsson, Leanne Best, Richard Dillane, El...    5,419  TV Show   \n",
       "3                                        Bear Grylls    1,977  TV Show   \n",
       "4  Penn Badgley, Victoria Pedretti, Ambyr Childer...  134,932  TV Show   \n",
       "5  Ryan Bartley, Kira Buckland, Lucien Dodge, Kyl...       37  TV Show   \n",
       "6  Pablo Lyle, Ana Layevska, Pamela Almanza, Seba...      458  TV Show   \n",
       "7     Iko Uwais, Byron Mann, Li Jun Li, Lawrence Kao    9,336  TV Show   \n",
       "8  Jennifer Julian, Thomas Fuentes, Calogero Germ...    1,495  TV Show   \n",
       "9  Rebecca Soler, Alysha Deslorieux, Haven Pascha...      556  TV Show   \n",
       "\n",
       "  original  \n",
       "0  Netflix  \n",
       "1  Netflix  \n",
       "2  Netflix  \n",
       "3  Netflix  \n",
       "4  Netflix  \n",
       "5  Netflix  \n",
       "6  Netflix  \n",
       "7  Netflix  \n",
       "8  Netflix  \n",
       "9  Netflix  "
      ]
     },
     "execution_count": 249,
     "metadata": {},
     "output_type": "execute_result"
    }
   ],
   "source": [
    "# Display first 10 rows\n",
    "df.head(10)"
   ]
  },
  {
   "cell_type": "markdown",
   "metadata": {},
   "source": [
    "- Print the shape of the data to find the number of rows and columns."
   ]
  },
  {
   "cell_type": "code",
   "execution_count": 250,
   "metadata": {},
   "outputs": [
    {
     "data": {
      "text/plain": [
       "(1517, 10)"
      ]
     },
     "execution_count": 250,
     "metadata": {},
     "output_type": "execute_result"
    }
   ],
   "source": [
    "# Obtain the rows and columns\n",
    "df.shape"
   ]
  },
  {
   "cell_type": "markdown",
   "metadata": {},
   "source": [
    "- The genre column has multiple values in each row. As a part of cleaning, extract only the first genre from each row."
   ]
  },
  {
   "cell_type": "code",
   "execution_count": 251,
   "metadata": {},
   "outputs": [],
   "source": [
    "# Extract the first genre\n",
    "df['genres'] = df['genres'].apply(lambda x: x.split(',')[0] if isinstance(x, str) and ',' in x else x)\n"
   ]
  },
  {
   "cell_type": "markdown",
   "metadata": {},
   "source": [
    "- Find the number of missing values in the data. If there are missing values, what method will you choose for each of the columns? Choose between mean/median/mode imputation, ffill, bfill, dropping the missing values. Please provide clear justification for choosing a particular approach."
   ]
  },
  {
   "cell_type": "code",
   "execution_count": 252,
   "metadata": {},
   "outputs": [
    {
     "name": "stdout",
     "output_type": "stream",
     "text": [
      "\n",
      "Missing values in the dataset:\n",
      "titles           0\n",
      "years            0\n",
      "genres           1\n",
      "imdb             5\n",
      "runtime        241\n",
      "description      0\n",
      "stars           28\n",
      "votes            1\n",
      "type             0\n",
      "original         0\n",
      "dtype: int64\n"
     ]
    }
   ],
   "source": [
    "# Find the number of missing values\n",
    "print(\"\\nMissing values in the dataset:\")\n",
    "missing_values = df.isnull().sum()\n",
    "print(missing_values)"
   ]
  },
  {
   "cell_type": "code",
   "execution_count": 253,
   "metadata": {},
   "outputs": [
    {
     "data": {
      "text/plain": [
       "titles          object\n",
       "years            int64\n",
       "genres          object\n",
       "imdb           float64\n",
       "runtime         object\n",
       "description     object\n",
       "stars           object\n",
       "votes           object\n",
       "type            object\n",
       "original        object\n",
       "dtype: object"
      ]
     },
     "execution_count": 253,
     "metadata": {},
     "output_type": "execute_result"
    }
   ],
   "source": [
    "# Confirm data types of the columns\n",
    "df.dtypes"
   ]
  },
  {
   "cell_type": "code",
   "execution_count": 254,
   "metadata": {},
   "outputs": [
    {
     "name": "stderr",
     "output_type": "stream",
     "text": [
      "/var/folders/m7/2d5d832j3j300wwm7q5ptzdh0000gn/T/ipykernel_6613/64755715.py:12: FutureWarning:\n",
      "\n",
      "A value is trying to be set on a copy of a DataFrame or Series through chained assignment using an inplace method.\n",
      "The behavior will change in pandas 3.0. This inplace method will never work because the intermediate object on which we are setting values always behaves as a copy.\n",
      "\n",
      "For example, when doing 'df[col].method(value, inplace=True)', try using 'df.method({col: value}, inplace=True)' or df[col] = df[col].method(value) instead, to perform the operation inplace on the original object.\n",
      "\n",
      "\n",
      "\n",
      "/var/folders/m7/2d5d832j3j300wwm7q5ptzdh0000gn/T/ipykernel_6613/64755715.py:10: FutureWarning:\n",
      "\n",
      "A value is trying to be set on a copy of a DataFrame or Series through chained assignment using an inplace method.\n",
      "The behavior will change in pandas 3.0. This inplace method will never work because the intermediate object on which we are setting values always behaves as a copy.\n",
      "\n",
      "For example, when doing 'df[col].method(value, inplace=True)', try using 'df.method({col: value}, inplace=True)' or df[col] = df[col].method(value) instead, to perform the operation inplace on the original object.\n",
      "\n",
      "\n",
      "\n"
     ]
    }
   ],
   "source": [
    "# Imputation Strategy\n",
    "# Justification:\n",
    "# - For numerical columns, use mean/median imputation based on the distribution.\n",
    "# - For categorical columns, use mode imputation.\n",
    "for col in df.columns:\n",
    "    if df[col].dtype in ['int64', 'float64']:\n",
    "        if df[col].skew() > 1:  # Highly skewed\n",
    "            df[col].fillna(df[col].median(), inplace=True)\n",
    "        else:\n",
    "            df[col].fillna(df[col].mean(), inplace=True)\n",
    "    else:\n",
    "        df[col].fillna(df[col].mode()[0], inplace=True)"
   ]
  },
  {
   "cell_type": "markdown",
   "metadata": {},
   "source": [
    "- Plot the histograms for numerical data."
   ]
  },
  {
   "cell_type": "code",
   "execution_count": 255,
   "metadata": {},
   "outputs": [
    {
     "data": {
      "image/png": "[encoded data removed]",
      "text/plain": [
       "<Figure size 1000x800 with 2 Axes>"
      ]
     },
     "metadata": {},
     "output_type": "display_data"
    }
   ],
   "source": [
    "numerical_cols = df.select_dtypes(include=['int64', 'float64']).columns\n",
    "df[numerical_cols].hist(figsize=(10, 8), bins=15)\n",
    "plt.suptitle('Histograms for Numerical Columns')\n",
    "plt.show()"
   ]
  },
  {
   "cell_type": "markdown",
   "metadata": {},
   "source": [
    "- Plot the bar chart for top 10 genres.\n",
    "top_genres = data['genre'].value_counts().head(10)\n",
    "plt.figure(figsize=(10, 6))\n",
    "sns.barplot(x=top_genres.values, y=top_genres.index)\n",
    "plt.title('Top 10 Genres')\n",
    "plt.xlabel('Count')\n",
    "plt.ylabel('Genre')\n",
    "plt.show()"
   ]
  },
  {
   "cell_type": "code",
   "execution_count": 256,
   "metadata": {},
   "outputs": [
    {
     "data": {
      "image/png": "[encoded data removed]",
      "text/plain": [
       "<Figure size 1000x600 with 1 Axes>"
      ]
     },
     "metadata": {},
     "output_type": "display_data"
    }
   ],
   "source": [
    "top_genres = df['genres'].value_counts().head(10)\n",
    "plt.figure(figsize=(10, 6))\n",
    "sns.barplot(x=top_genres.values, y=top_genres.index)\n",
    "plt.title('Top 10 Genres')\n",
    "plt.xlabel('Count')\n",
    "plt.ylabel('Genre')\n",
    "plt.show()"
   ]
  },
  {
   "cell_type": "markdown",
   "metadata": {},
   "source": [
    "- Plot the line chart for the number of releases per year."
   ]
  },
  {
   "cell_type": "code",
   "execution_count": 257,
   "metadata": {},
   "outputs": [
    {
     "data": {
      "image/png": "[encoded data removed]",
      "text/plain": [
       "<Figure size 1200x600 with 1 Axes>"
      ]
     },
     "metadata": {},
     "output_type": "display_data"
    }
   ],
   "source": [
    "releases_per_year = df['years'].value_counts().sort_index()\n",
    "plt.figure(figsize=(12, 6))\n",
    "sns.lineplot(x=releases_per_year.index, y=releases_per_year.values)\n",
    "plt.title('Number of Releases per Year')\n",
    "plt.xlabel('Year')\n",
    "plt.ylabel('Count')\n",
    "plt.show()"
   ]
  },
  {
   "cell_type": "markdown",
   "metadata": {},
   "source": [
    "- Plot the sunburst chart for the distribution of genres by content type. (Use plotly library)."
   ]
  },
  {
   "cell_type": "code",
   "execution_count": 258,
   "metadata": {},
   "outputs": [
    {
     "data": {
      "application/vnd.plotly.v1+json": {
       "config": {
        "plotlyServerURL": "https://plot.ly"
       },
       "data": [
        {
         "branchvalues": "total",
         "domain": {
          "x": [
           0,
           1
          ],
          "y": [
           0,
           1
          ]
         },
         "hovertemplate": "labels=%{label}<br>counts=%{value}<br>parent=%{parent}<br>id=%{id}<extra></extra>",
         "ids": [
          "Movie/Action",
          "Movie/Adventure",
          "Movie/Animation",
          "Movie/Biography",
          "Movie/Comedy",
          "Movie/Crime",
          "Movie/Documentary",
          "Movie/Drama",
          "Movie/Family",
          "Movie/Fantasy",
          "Movie/Horror",
          "Movie/Mystery",
          "Movie/Sci-Fi",
          "Movie/Short",
          "Movie/Thriller",
          "TV Show/Action",
          "TV Show/Adventure",
          "TV Show/Animation",
          "TV Show/Biography",
          "TV Show/Comedy",
          "TV Show/Crime",
          "TV Show/Documentary",
          "TV Show/Drama",
          "TV Show/Family",
          "TV Show/Fantasy",
          "TV Show/Game-Show",
          "TV Show/History",
          "TV Show/Horror",
          "TV Show/Music",
          "TV Show/Musical",
          "TV Show/Mystery",
          "TV Show/Reality-TV",
          "TV Show/Romance",
          "TV Show/Sci-Fi",
          "TV Show/Short",
          "TV Show/Sport",
          "TV Show/Talk-Show",
          "TV Show/Thriller",
          "Movie",
          "TV Show"
         ],
         "labels": [
          "Action",
          "Adventure",
          "Animation",
          "Biography",
          "Comedy",
          "Crime",
          "Documentary",
          "Drama",
          "Family",
          "Fantasy",
          "Horror",
          "Mystery",
          "Sci-Fi",
          "Short",
          "Thriller",
          "Action",
          "Adventure",
          "Animation",
          "Biography",
          "Comedy",
          "Crime",
          "Documentary",
          "Drama",
          "Family",
          "Fantasy",
          "Game-Show",
          "History",
          "Horror",
          "Music",
          "Musical",
          "Mystery",
          "Reality-TV",
          "Romance",
          "Sci-Fi",
          "Short",
          "Sport",
          "Talk-Show",
          "Thriller",
          "Movie",
          "TV Show"
         ],
         "name": "",
         "parents": [
          "Movie",
          "Movie",
          "Movie",
          "Movie",
          "Movie",
          "Movie",
          "Movie",
          "Movie",
          "Movie",
          "Movie",
          "Movie",
          "Movie",
          "Movie",
          "Movie",
          "Movie",
          "TV Show",
          "TV Show",
          "TV Show",
          "TV Show",
          "TV Show",
          "TV Show",
          "TV Show",
          "TV Show",
          "TV Show",
          "TV Show",
          "TV Show",
          "TV Show",
          "TV Show",
          "TV Show",
          "TV Show",
          "TV Show",
          "TV Show",
          "TV Show",
          "TV Show",
          "TV Show",
          "TV Show",
          "TV Show",
          "TV Show",
          "",
          ""
         ],
         "type": "sunburst",
         "values": {
          "bdata": "AAAAAACAS0AAAAAAAAAcQAAAAAAAADpAAAAAAAAAMkAAAAAAAABgQAAAAAAAADNAAAAAAACAY0AAAAAAAIBSQAAAAAAAAABAAAAAAAAA8D8AAAAAAAAcQAAAAAAAAABAAAAAAAAA8D8AAAAAAAAYQAAAAAAAAAhAAAAAAAAARUAAAAAAAAAwQAAAAAAAIGJAAAAAAAAAFEAAAAAAAKB2QAAAAAAAAEtAAAAAAAAAZ0AAAAAAAIBYQAAAAAAAACJAAAAAAAAACEAAAAAAAAAoQAAAAAAAAPA/AAAAAAAAFEAAAAAAAAAQQAAAAAAAAPA/AAAAAAAA8D8AAAAAAIBKQAAAAAAAAPA/AAAAAAAA8D8AAAAAAAAYQAAAAAAAAABAAAAAAAAAFEAAAAAAAAAAQAAAAAAAkH9AAAAAAACgj0A=",
          "dtype": "f8"
         }
        }
       ],
       "layout": {
        "legend": {
         "tracegroupgap": 0
        },
        "template": {
         "data": {
          "bar": [
           {
            "error_x": {
             "color": "#2a3f5f"
            },
            "error_y": {
             "color": "#2a3f5f"
            },
            "marker": {
             "line": {
              "color": "#E5ECF6",
              "width": 0.5
             },
             "pattern": {
              "fillmode": "overlay",
              "size": 10,
              "solidity": 0.2
             }
            },
            "type": "bar"
           }
          ],
          "barpolar": [
           {
            "marker": {
             "line": {
              "color": "#E5ECF6",
              "width": 0.5
             },
             "pattern": {
              "fillmode": "overlay",
              "size": 10,
              "solidity": 0.2
             }
            },
            "type": "barpolar"
           }
          ],
          "carpet": [
           {
            "aaxis": {
             "endlinecolor": "#2a3f5f",
             "gridcolor": "white",
             "linecolor": "white",
             "minorgridcolor": "white",
             "startlinecolor": "#2a3f5f"
            },
            "baxis": {
             "endlinecolor": "#2a3f5f",
             "gridcolor": "white",
             "linecolor": "white",
             "minorgridcolor": "white",
             "startlinecolor": "#2a3f5f"
            },
            "type": "carpet"
           }
          ],
          "choropleth": [
           {
            "colorbar": {
             "outlinewidth": 0,
             "ticks": ""
            },
            "type": "choropleth"
           }
          ],
          "contour": [
           {
            "colorbar": {
             "outlinewidth": 0,
             "ticks": ""
            },
            "colorscale": [
             [
              0,
              "#0d0887"
             ],
             [
              0.1111111111111111,
              "#46039f"
             ],
             [
              0.2222222222222222,
              "#7201a8"
             ],
             [
              0.3333333333333333,
              "#9c179e"
             ],
             [
              0.4444444444444444,
              "#bd3786"
             ],
             [
              0.5555555555555556,
              "#d8576b"
             ],
             [
              0.6666666666666666,
              "#ed7953"
             ],
             [
              0.7777777777777778,
              "#fb9f3a"
             ],
             [
              0.8888888888888888,
              "#fdca26"
             ],
             [
              1,
              "#f0f921"
             ]
            ],
            "type": "contour"
           }
          ],
          "contourcarpet": [
           {
            "colorbar": {
             "outlinewidth": 0,
             "ticks": ""
            },
            "type": "contourcarpet"
           }
          ],
          "heatmap": [
           {
            "colorbar": {
             "outlinewidth": 0,
             "ticks": ""
            },
            "colorscale": [
             [
              0,
              "#0d0887"
             ],
             [
              0.1111111111111111,
              "#46039f"
             ],
             [
              0.2222222222222222,
              "#7201a8"
             ],
             [
              0.3333333333333333,
              "#9c179e"
             ],
             [
              0.4444444444444444,
              "#bd3786"
             ],
             [
              0.5555555555555556,
              "#d8576b"
             ],
             [
              0.6666666666666666,
              "#ed7953"
             ],
             [
              0.7777777777777778,
              "#fb9f3a"
             ],
             [
              0.8888888888888888,
              "#fdca26"
             ],
             [
              1,
              "#f0f921"
             ]
            ],
            "type": "heatmap"
           }
          ],
          "histogram": [
           {
            "marker": {
             "pattern": {
              "fillmode": "overlay",
              "size": 10,
              "solidity": 0.2
             }
            },
            "type": "histogram"
           }
          ],
          "histogram2d": [
           {
            "colorbar": {
             "outlinewidth": 0,
             "ticks": ""
            },
            "colorscale": [
             [
              0,
              "#0d0887"
             ],
             [
              0.1111111111111111,
              "#46039f"
             ],
             [
              0.2222222222222222,
              "#7201a8"
             ],
             [
              0.3333333333333333,
              "#9c179e"
             ],
             [
              0.4444444444444444,
              "#bd3786"
             ],
             [
              0.5555555555555556,
              "#d8576b"
             ],
             [
              0.6666666666666666,
              "#ed7953"
             ],
             [
              0.7777777777777778,
              "#fb9f3a"
             ],
             [
              0.8888888888888888,
              "#fdca26"
             ],
             [
              1,
              "#f0f921"
             ]
            ],
            "type": "histogram2d"
           }
          ],
          "histogram2dcontour": [
           {
            "colorbar": {
             "outlinewidth": 0,
             "ticks": ""
            },
            "colorscale": [
             [
              0,
              "#0d0887"
             ],
             [
              0.1111111111111111,
              "#46039f"
             ],
             [
              0.2222222222222222,
              "#7201a8"
             ],
             [
              0.3333333333333333,
              "#9c179e"
             ],
             [
              0.4444444444444444,
              "#bd3786"
             ],
             [
              0.5555555555555556,
              "#d8576b"
             ],
             [
              0.6666666666666666,
              "#ed7953"
             ],
             [
              0.7777777777777778,
              "#fb9f3a"
             ],
             [
              0.8888888888888888,
              "#fdca26"
             ],
             [
              1,
              "#f0f921"
             ]
            ],
            "type": "histogram2dcontour"
           }
          ],
          "mesh3d": [
           {
            "colorbar": {
             "outlinewidth": 0,
             "ticks": ""
            },
            "type": "mesh3d"
           }
          ],
          "parcoords": [
           {
            "line": {
             "colorbar": {
              "outlinewidth": 0,
              "ticks": ""
             }
            },
            "type": "parcoords"
           }
          ],
          "pie": [
           {
            "automargin": true,
            "type": "pie"
           }
          ],
          "scatter": [
           {
            "fillpattern": {
             "fillmode": "overlay",
             "size": 10,
             "solidity": 0.2
            },
            "type": "scatter"
           }
          ],
          "scatter3d": [
           {
            "line": {
             "colorbar": {
              "outlinewidth": 0,
              "ticks": ""
             }
            },
            "marker": {
             "colorbar": {
              "outlinewidth": 0,
              "ticks": ""
             }
            },
            "type": "scatter3d"
           }
          ],
          "scattercarpet": [
           {
            "marker": {
             "colorbar": {
              "outlinewidth": 0,
              "ticks": ""
             }
            },
            "type": "scattercarpet"
           }
          ],
          "scattergeo": [
           {
            "marker": {
             "colorbar": {
              "outlinewidth": 0,
              "ticks": ""
             }
            },
            "type": "scattergeo"
           }
          ],
          "scattergl": [
           {
            "marker": {
             "colorbar": {
              "outlinewidth": 0,
              "ticks": ""
             }
            },
            "type": "scattergl"
           }
          ],
          "scattermap": [
           {
            "marker": {
             "colorbar": {
              "outlinewidth": 0,
              "ticks": ""
             }
            },
            "type": "scattermap"
           }
          ],
          "scattermapbox": [
           {
            "marker": {
             "colorbar": {
              "outlinewidth": 0,
              "ticks": ""
             }
            },
            "type": "scattermapbox"
           }
          ],
          "scatterpolar": [
           {
            "marker": {
             "colorbar": {
              "outlinewidth": 0,
              "ticks": ""
             }
            },
            "type": "scatterpolar"
           }
          ],
          "scatterpolargl": [
           {
            "marker": {
             "colorbar": {
              "outlinewidth": 0,
              "ticks": ""
             }
            },
            "type": "scatterpolargl"
           }
          ],
          "scatterternary": [
           {
            "marker": {
             "colorbar": {
              "outlinewidth": 0,
              "ticks": ""
             }
            },
            "type": "scatterternary"
           }
          ],
          "surface": [
           {
            "colorbar": {
             "outlinewidth": 0,
             "ticks": ""
            },
            "colorscale": [
             [
              0,
              "#0d0887"
             ],
             [
              0.1111111111111111,
              "#46039f"
             ],
             [
              0.2222222222222222,
              "#7201a8"
             ],
             [
              0.3333333333333333,
              "#9c179e"
             ],
             [
              0.4444444444444444,
              "#bd3786"
             ],
             [
              0.5555555555555556,
              "#d8576b"
             ],
             [
              0.6666666666666666,
              "#ed7953"
             ],
             [
              0.7777777777777778,
              "#fb9f3a"
             ],
             [
              0.8888888888888888,
              "#fdca26"
             ],
             [
              1,
              "#f0f921"
             ]
            ],
            "type": "surface"
           }
          ],
          "table": [
           {
            "cells": {
             "fill": {
              "color": "#EBF0F8"
             },
             "line": {
              "color": "white"
             }
            },
            "header": {
             "fill": {
              "color": "#C8D4E3"
             },
             "line": {
              "color": "white"
             }
            },
            "type": "table"
           }
          ]
         },
         "layout": {
          "annotationdefaults": {
           "arrowcolor": "#2a3f5f",
           "arrowhead": 0,
           "arrowwidth": 1
          },
          "autotypenumbers": "strict",
          "coloraxis": {
           "colorbar": {
            "outlinewidth": 0,
            "ticks": ""
           }
          },
          "colorscale": {
           "diverging": [
            [
             0,
             "#8e0152"
            ],
            [
             0.1,
             "#c51b7d"
            ],
            [
             0.2,
             "#de77ae"
            ],
            [
             0.3,
             "#f1b6da"
            ],
            [
             0.4,
             "#fde0ef"
            ],
            [
             0.5,
             "#f7f7f7"
            ],
            [
             0.6,
             "#e6f5d0"
            ],
            [
             0.7,
             "#b8e186"
            ],
            [
             0.8,
             "#7fbc41"
            ],
            [
             0.9,
             "#4d9221"
            ],
            [
             1,
             "#276419"
            ]
           ],
           "sequential": [
            [
             0,
             "#0d0887"
            ],
            [
             0.1111111111111111,
             "#46039f"
            ],
            [
             0.2222222222222222,
             "#7201a8"
            ],
            [
             0.3333333333333333,
             "#9c179e"
            ],
            [
             0.4444444444444444,
             "#bd3786"
            ],
            [
             0.5555555555555556,
             "#d8576b"
            ],
            [
             0.6666666666666666,
             "#ed7953"
            ],
            [
             0.7777777777777778,
             "#fb9f3a"
            ],
            [
             0.8888888888888888,
             "#fdca26"
            ],
            [
             1,
             "#f0f921"
            ]
           ],
           "sequentialminus": [
            [
             0,
             "#0d0887"
            ],
            [
             0.1111111111111111,
             "#46039f"
            ],
            [
             0.2222222222222222,
             "#7201a8"
            ],
            [
             0.3333333333333333,
             "#9c179e"
            ],
            [
             0.4444444444444444,
             "#bd3786"
            ],
            [
             0.5555555555555556,
             "#d8576b"
            ],
            [
             0.6666666666666666,
             "#ed7953"
            ],
            [
             0.7777777777777778,
             "#fb9f3a"
            ],
            [
             0.8888888888888888,
             "#fdca26"
            ],
            [
             1,
             "#f0f921"
            ]
           ]
          },
          "colorway": [
           "#636efa",
           "#EF553B",
           "#00cc96",
           "#ab63fa",
           "#FFA15A",
           "#19d3f3",
           "#FF6692",
           "#B6E880",
           "#FF97FF",
           "#FECB52"
          ],
          "font": {
           "color": "#2a3f5f"
          },
          "geo": {
           "bgcolor": "white",
           "lakecolor": "white",
           "landcolor": "#E5ECF6",
           "showlakes": true,
           "showland": true,
           "subunitcolor": "white"
          },
          "hoverlabel": {
           "align": "left"
          },
          "hovermode": "closest",
          "mapbox": {
           "style": "light"
          },
          "paper_bgcolor": "white",
          "plot_bgcolor": "#E5ECF6",
          "polar": {
           "angularaxis": {
            "gridcolor": "white",
            "linecolor": "white",
            "ticks": ""
           },
           "bgcolor": "#E5ECF6",
           "radialaxis": {
            "gridcolor": "white",
            "linecolor": "white",
            "ticks": ""
           }
          },
          "scene": {
           "xaxis": {
            "backgroundcolor": "#E5ECF6",
            "gridcolor": "white",
            "gridwidth": 2,
            "linecolor": "white",
            "showbackground": true,
            "ticks": "",
            "zerolinecolor": "white"
           },
           "yaxis": {
            "backgroundcolor": "#E5ECF6",
            "gridcolor": "white",
            "gridwidth": 2,
            "linecolor": "white",
            "showbackground": true,
            "ticks": "",
            "zerolinecolor": "white"
           },
           "zaxis": {
            "backgroundcolor": "#E5ECF6",
            "gridcolor": "white",
            "gridwidth": 2,
            "linecolor": "white",
            "showbackground": true,
            "ticks": "",
            "zerolinecolor": "white"
           }
          },
          "shapedefaults": {
           "line": {
            "color": "#2a3f5f"
           }
          },
          "ternary": {
           "aaxis": {
            "gridcolor": "white",
            "linecolor": "white",
            "ticks": ""
           },
           "baxis": {
            "gridcolor": "white",
            "linecolor": "white",
            "ticks": ""
           },
           "bgcolor": "#E5ECF6",
           "caxis": {
            "gridcolor": "white",
            "linecolor": "white",
            "ticks": ""
           }
          },
          "title": {
           "x": 0.05
          },
          "xaxis": {
           "automargin": true,
           "gridcolor": "white",
           "linecolor": "white",
           "ticks": "",
           "title": {
            "standoff": 15
           },
           "zerolinecolor": "white",
           "zerolinewidth": 2
          },
          "yaxis": {
           "automargin": true,
           "gridcolor": "white",
           "linecolor": "white",
           "ticks": "",
           "title": {
            "standoff": 15
           },
           "zerolinecolor": "white",
           "zerolinewidth": 2
          }
         }
        },
        "title": {
         "text": "Distribution of Genres by Content Type"
        }
       }
      }
     },
     "metadata": {},
     "output_type": "display_data"
    }
   ],
   "source": [
    "sunburst_data = df.groupby(['type', 'genres']).size().reset_index(name='counts')\n",
    "fig = px.sunburst(sunburst_data, path=['type', 'genres'], values='counts', title='Distribution of Genres by Content Type')\n",
    "fig.show()\n"
   ]
  },
  {
   "cell_type": "markdown",
   "metadata": {},
   "source": [
    "- Perform encoding on the categorical data. Choose between label encoding, one hot encoding or ordinal encoding and provide a clear justification for choosing a particular encoding method."
   ]
  },
  {
   "cell_type": "code",
   "execution_count": 259,
   "metadata": {},
   "outputs": [],
   "source": [
    "# Encoding categorical data\n",
    "# One-Hot Encoding for genre, Label Encoding for content_type\n",
    "df['type'] = LabelEncoder().fit_transform(df['type'])\n",
    "genre_dummies = pd.get_dummies(df['genres'], prefix='genres')\n",
    "data = pd.concat([df, genre_dummies], axis=1)\n",
    "data.drop('genres', axis=1, inplace=True)"
   ]
  },
  {
   "cell_type": "markdown",
   "metadata": {},
   "source": [
    "- Identify if there are any outliers in the data. If so, handle the outliers (Refer to the lecture notebook)."
   ]
  },
  {
   "cell_type": "code",
   "execution_count": 260,
   "metadata": {},
   "outputs": [],
   "source": [
    "for col in numerical_cols:\n",
    "    q1 = df[col].quantile(0.25)\n",
    "    q3 = df[col].quantile(0.75)\n",
    "    iqr = q3 - q1\n",
    "    lower_bound = q1 - 1.5 * iqr\n",
    "    upper_bound = q3 + 1.5 * iqr\n",
    "    df[col] = np.where(df[col] < lower_bound, lower_bound, df[col])\n",
    "    df[col] = np.where(df[col] > upper_bound, upper_bound, df[col])"
   ]
  },
  {
   "cell_type": "markdown",
   "metadata": {},
   "source": [
    "- If given an option to replace the outliers with 0, would you do that? Why or why not? Provide clear justification.  \n",
    "\n",
    "    Replacing outliers with 0 might distort the meaning of the data.  \n",
    "    Instead, capping the values ensures that the data stays within a reasonable range."
   ]
  },
  {
   "cell_type": "markdown",
   "metadata": {},
   "source": [
    "- Perform all feature scaling techniques using StandardScaler, MinMaxScaler and RobustScaler. Which method is the most appropriate for this data and why? Please provide a clear explanation."
   ]
  },
  {
   "cell_type": "code",
   "execution_count": null,
   "metadata": {},
   "outputs": [
    {
     "name": "stdout",
     "output_type": "stream",
     "text": [
      "\n",
      "StandardScaler - First 5 rows of scaled data:\n",
      "      years      imdb\n",
      "0 -1.154352  0.195210\n",
      "1  0.460109 -0.623913\n",
      "2  0.998262  0.013183\n",
      "3  0.460109  0.013183\n",
      "4 -0.078045  1.014333\n",
      "\n",
      "MinMaxScaler - First 5 rows of scaled data:\n",
      "      years      imdb\n",
      "0  0.789474  0.652174\n",
      "1  0.947368  0.521739\n",
      "2  1.000000  0.623188\n",
      "3  0.947368  0.623188\n",
      "4  0.894737  0.782609\n",
      "\n",
      "RobustScaler - First 5 rows of scaled data:\n",
      "      years      imdb\n",
      "0 -0.666667  0.071429\n",
      "1  0.333333 -0.571429\n",
      "2  0.666667 -0.071429\n",
      "3  0.333333 -0.071429\n",
      "4  0.000000  0.714286\n"
     ]
    }
   ],
   "source": [
    "scalers = {\n",
    "    'StandardScaler': StandardScaler(),\n",
    "    'MinMaxScaler': MinMaxScaler(),\n",
    "    'RobustScaler': RobustScaler()\n",
    "}\n",
    "\n",
    "# Recommendation:\n",
    "# - If data is normally distributed: Use StandardScaler.\n",
    "# - If data has outliers: Use RobustScaler.\n",
    "# - If all features should be scaled to [0, 1]: Use MinMaxScaler.\n",
    "scaled_data = {}\n",
    "for name, scaler in scalers.items():\n",
    "    scaled_data[name] = pd.DataFrame(scaler.fit_transform(data[numerical_cols]), columns=numerical_cols)\n",
    "    print(f\"\\n{name} - First 5 rows of scaled data:\")\n",
    "    print(scaled_data[name].head())"
   ]
  },
  {
   "cell_type": "markdown",
   "metadata": {},
   "source": [
    "### Which Scaling Method is the Most Appropriate?"
   ]
  },
  {
   "cell_type": "markdown",
   "metadata": {},
   "source": [
    "### Based on the result:\n",
    "\n",
    "- RobustScaler is the most appropriate method for this dataset because:\n",
    "    - It effectively handles outliers without distorting the relative relationships in the data.\n",
    "    - Both years and imdb are scaled to a balanced range, making the data suitable for machine learning models.\n",
    "\n",
    "- StandardScaler can be considered if:\n",
    "    - The data is confirmed to follow a normal distribution.\n",
    "    - Outliers are minimal or have been handled beforehand.\n",
    "\n",
    "- MinMaxScaler is less ideal in this case because:\n",
    "    - Its sensitivity to outliers may compress the scaling of non-extreme values, reducing its effectiveness."
   ]
  }
 ],
 "metadata": {
  "kernelspec": {
   "display_name": "venv",
   "language": "python",
   "name": "python3"
  },
  "language_info": {
   "codemirror_mode": {
    "name": "ipython",
    "version": 3
   },
   "file_extension": ".py",
   "mimetype": "text/x-python",
   "name": "python",
   "nbconvert_exporter": "python",
   "pygments_lexer": "ipython3",
   "version": "3.12.4"
  }
 },
 "nbformat": 4,
 "nbformat_minor": 2
}
